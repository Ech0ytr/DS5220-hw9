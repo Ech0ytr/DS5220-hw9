{
 "cells": [
  {
   "cell_type": "markdown",
   "id": "b8bf9c36-d355-466e-948e-f149a33c6d57",
   "metadata": {},
   "source": [
    "## This homework assesses your ability of building and deploying your applications. \n",
    "\n",
    "\n",
    "`start date: Nov 22nd 11:59 PM` <br>\n",
    "`due date: Dec 5th 11:59 PM`\n",
    "\n",
    "### Make sure you submitted your submissions to BrightSpace.\n",
    "\n",
    "`Total credits:  63/53`\n",
    "\n",
    "You're welcome to share your thoughts about the homework and the course materials here: https://forms.gle/Kd9AoUZwkMiF8Vx5A"
   ]
  },
  {
   "cell_type": "markdown",
   "id": "de13abfd-02f2-4474-a1ef-58840c6559ce",
   "metadata": {},
   "source": [
    "# P1: File path related questions\n",
    "\n",
    "In the following structure, `project`, `data`, and `scripts` are folder names. `my_notebook.ipynb` is the Jupyter Notebook you used to create these folders.\n",
    "\n",
    "```python\n",
    "project/\n",
    "    data/\n",
    "        file_name.csv\n",
    "    scripts/\n",
    "        script.py\n",
    "my_notebook.ipynb  \n",
    "\n",
    "```"
   ]
  },
  {
   "cell_type": "markdown",
   "id": "5d02fdc1-83f6-410d-8688-26940b73221e",
   "metadata": {},
   "source": [
    "`P1.1   3 pts` Suppose I'm currently at the same level as the project folder, meaning I am outside the project folder but within the same parent directory. I want to open the file_name.csv file using the following code written in my my_notebook.ipynb:\n",
    "\n",
    "```python\n",
    "df = pd.read_csv('file_name.csv')\n",
    "\n",
    "```\n",
    "Will this code work? If not, how should I revise it? "
   ]
  },
  {
   "cell_type": "markdown",
   "id": "2506032b-bfa4-4ff7-9bb2-e7e578cd8cf2",
   "metadata": {},
   "source": [
    "No, the code will not work because the 'file_name.csv' is not in the current working directory of the notebook. To make the code work, just use df = pd.read_csv('project/data/file_name.csv'), which adds the correct path to read the file.\n"
   ]
  },
  {
   "cell_type": "markdown",
   "id": "8fbbbddc-b64b-43ea-bf16-45874a416597",
   "metadata": {},
   "source": [
    "`p1.2 3 pts`  Suppose you are now in the `data` folder, and you want to re-write your `script.py` file using the `%%writefile` method while reflecting all your actions (e.g., cd commands, file path changes) within the `my_notebook.ipynb` file. Can you demonstrate how you would accomplish this?"
   ]
  },
  {
   "cell_type": "markdown",
   "id": "b765c7fa-69e2-43dc-a044-ac9758d4fa13",
   "metadata": {},
   "source": [
    "First, use '%cd ../scripts' to get back to the scripts folder, and then use '%%writefile script.py' command to start to rewrite the file, and under the command, I can do any changes that I want to cover the script.py file."
   ]
  },
  {
   "cell_type": "markdown",
   "id": "6e46ae47-39a8-40c6-bbe3-ba105b7072ce",
   "metadata": {},
   "source": [
    "`p1.3 3 pts`  Suppose you are outside of the `project` folder but still within the same parent directory, and you want to re-write your `script.py` file using the `%%writefile` method while reflecting all your actions (e.g., cd commands, file path changes) within the `my_notebook.ipynb` file. Can you demonstrate how you would accomplish this? Assume you did everything within your `my_notebook.ipynb`. "
   ]
  },
  {
   "cell_type": "markdown",
   "id": "c089a79e-8ece-4d1e-adfe-2835ace92bfd",
   "metadata": {},
   "source": [
    "First, use '%cd project/scripts' to the scripts folder under the project folder, then I can use '%%writefile script.py' to rewrite the file, and under the command, I can do any changes that I want to cover the script.py file."
   ]
  },
  {
   "cell_type": "markdown",
   "id": "27464784-90e2-4766-99cb-d09e1b0d5414",
   "metadata": {},
   "source": [
    "`p1.4 3 pts` Suppose you are outside of the project folder but still within the same parent directory, and you want to create a sub-folder named `test_data` under the `data` folder. Can you demonstrate how you would accomplish this? Assume you did everything within your `my_notebook.ipynb`. "
   ]
  },
  {
   "cell_type": "markdown",
   "id": "9488f6cf-e628-41bf-81ca-3de0a3da4846",
   "metadata": {},
   "source": [
    "First, use '%cd project/data' to get to the data folder under the project folder. Then, use '!mkdir test_data' to create a sub-folder named 'test_data' under the data folder."
   ]
  },
  {
   "cell_type": "markdown",
   "id": "b338981d-b48f-4188-8d67-4e6c6eae0fd0",
   "metadata": {},
   "source": [
    "`p1.5 5 pts` Suppose you are outside of the project folder but still within the same parent directory, and you want to import your script.py file as a module. Your `script.py` file as the following contents:\n",
    "\n",
    "```python\n",
    "df = pd.read_csv('file_name.csv')\n",
    "```\n",
    "\n",
    "You have used the following codes to do the import within your `my_notebook.ipynb` file:\n",
    "\n",
    "```python\n",
    "import script\n",
    "```\n",
    "\n",
    "What are the issues with the script.py file ifself and also the way to import it? Explain bellow and fix it yourself. "
   ]
  },
  {
   "cell_type": "markdown",
   "id": "5af4fc62-80cd-422d-ae9f-effa2d5ed309",
   "metadata": {},
   "source": [
    "The issues with the script.py file is that 'df = pd.read_csv('file_name.csv')' can only read the file under the same directory, while the 'file_name.csv' is under the data folder instead of the scripts folder, so the command should be:\n",
    "df = pd.read_csv('../data/file_name.csv'), which means come back to the project folder, then the data folder, then find the 'file_name.csv'.\n",
    "\n",
    "Also, I cannot directly import script module since it has not been added to sys.path, which allows Python to locate it.\n",
    "So I can use:\n",
    "import sys\n",
    "\n",
    "sys.path.append('project/scripts')\n",
    "\n",
    "import script\n",
    "\n",
    "then the script module can be correctly imported."
   ]
  },
  {
   "cell_type": "markdown",
   "id": "e4e1c3b8-037e-4a6a-9b76-6dcd616e315e",
   "metadata": {},
   "source": [
    "`p1.6 6 pts` Suppose you are outside of the project folder but still within the same parent directory, and you want to first import the class `clean_data`  from `script.py`, and then create an instance of the class. Your `script.py` file as the following contents:\n",
    "\n",
    "```python\n",
    "class clean_data:\n",
    "\n",
    "    def __init__(self):\n",
    "        df = pd.read_csv(`file_name.csv`)\n",
    "```\n",
    "\n",
    "You have used the following codes to import and create instance:\n",
    "\n",
    "```python\n",
    "import script\n",
    "\n",
    "clean_data = clean_data()\n",
    "\n",
    "```\n",
    "\n",
    "What are the issues with the script.py file ifself(1 issue ) and also the way to import it (2 issues)  and create instance(1 issue) ? Explain bellow and fix it yourself. "
   ]
  },
  {
   "cell_type": "markdown",
   "id": "887a4aa8",
   "metadata": {},
   "source": [
    "Again, the script.py file use the wrong file path when trying to read the 'file_name.csv', and also when initializing, the df should be used as self.df to be recorded in the class as an instance variable, the correct data for script.py should be:\n",
    "\n",
    "class clean_data:\n",
    "    def __init__(self):\n",
    "        self.df = pd.read_csv('../data/file_name.csv')\n",
    "        \n",
    "And the script module cannot be directly imported since it has not been added to sys.path, which allows Python to locate it.\n",
    "\n",
    "So I can use:\n",
    "\n",
    "import sys\n",
    "sys.path.append('project/scripts')\n",
    "\n",
    "from script import clean_data\n",
    "\n",
    "clean_instance = clean_data()\n",
    "\n",
    "then the script module and class clean_data can be correctly imported.\n"
   ]
  },
  {
   "cell_type": "markdown",
   "id": "de64ff01-a082-45e9-8c43-9f26bd13cf2f",
   "metadata": {},
   "source": [
    "# P2. `30 pts` Coding challenges (Individual version)\n",
    "\n",
    "For this question, you will build a movie recommendation system using K-Nearest Neighbors (KNN) and create a webpage interface with Streamlit. The Streamlit webpage should allow the user to input a movie name they have watched before, and based on that input, the system will recommend 4 similar movies. Additionally, you will deploy your Streamlit app on AWS EC2.\n",
    "\n",
    "For this question, I will place fewer restrictions on the choice of data and features, allowing you to mimic real-world decision-making as data professionals. In previous assignments, I guided you step-by-step to teach you how to correctly code each small part. Now that you’ve gained those foundational skills, this assignment will focus more on exercising your ability to design and solve problems independently.\n",
    "\n",
    "You are free to use any dataset you like for this assignment. The movie dataset from HW8 is sufficient, but you are welcome to explore and use other datasets if you prefer.\n",
    "\n",
    "Your final submission should include:\n",
    "\n",
    "- A screenshot of the Streamlit webpage displaying your app and its recommendations.\n",
    "- The source code used to create the application.\n",
    "\n",
    "`Bonus 10 pts` use a pre-trained LLM model to add a short description to the movie provided by the user. \n"
   ]
  },
  {
   "cell_type": "markdown",
   "id": "1d0494ab-8713-41e6-9c50-5252b31183ff",
   "metadata": {},
   "source": [
    "# P2. `30 pts` Coding challenges (Group version)\n",
    "\n",
    "For this assignment, you are allowed to collaborate with up to 2 classmates and turn it into a group project. You can choose any problem and dataset to work on, but your project must demonstrate 3 of the following skills. Note: You must include either 3 (Running the project in Docker) or 4 (Deploying the application on AWS EC2) as one of your chosen skills.\n",
    "\n",
    "1. Creating a Python package.\n",
    "2. Building a webpage using Streamlit with user input functionality.\n",
    "3. Running the project in Docker (mandatory if 4 is not chosen).\n",
    "4. Deploying the application on AWS EC2 (mandatory if 3 is not chosen).\n",
    "5. Applying KNN to solve a problem.\n",
    "6. Utilizing LLM models in your application.\n",
    "\n",
    "\n",
    "In your submission, you must clearly list your teammates' names, and each team member must submit the assignment individually on Brightspace.\n",
    "\n",
    "Your final submission should include:\n",
    "\n",
    "- A screenshot of the Streamlit webpage displaying your app and its functionality.\n",
    "- The source code for the application.\n",
    "\n",
    "`Bonus 10 pts` \n",
    "\n",
    "\n",
    "Prepare a roughly 5 minute presentation to deliver in class. If you plan to present, please notify me at least 2 days before the deadline to allow sufficient time for adjustments to the course schedule. Bonus points will be awarded after the presentation."
   ]
  },
  {
   "cell_type": "code",
   "execution_count": null,
   "id": "27add8e6-9a9b-4c01-b05c-c3c3e01b62c2",
   "metadata": {},
   "outputs": [],
   "source": []
  }
 ],
 "metadata": {
  "kernelspec": {
   "display_name": "Python 3 (ipykernel)",
   "language": "python",
   "name": "python3"
  },
  "language_info": {
   "codemirror_mode": {
    "name": "ipython",
    "version": 3
   },
   "file_extension": ".py",
   "mimetype": "text/x-python",
   "name": "python",
   "nbconvert_exporter": "python",
   "pygments_lexer": "ipython3",
   "version": "3.12.7"
  }
 },
 "nbformat": 4,
 "nbformat_minor": 5
}
