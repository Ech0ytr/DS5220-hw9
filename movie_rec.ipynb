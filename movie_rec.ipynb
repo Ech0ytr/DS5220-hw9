{
 "cells": [
  {
   "cell_type": "code",
   "execution_count": 5,
   "metadata": {},
   "outputs": [
    {
     "name": "stdout",
     "output_type": "stream",
     "text": [
      "Overwriting movie_rec.py\n"
     ]
    }
   ],
   "source": [
    "%%writefile movie_rec.py\n",
    "\n",
    "import pandas as pd\n",
    "import numpy as np\n",
    "import streamlit as st\n",
    "from sklearn.preprocessing import OneHotEncoder\n",
    "from sklearn.metrics.pairwise import cosine_similarity\n",
    "\n",
    "movies = pd.read_csv('movies.csv')\n",
    "\n",
    "movies['name'] = movies['title'].str.extract(r'^(.*)\\s\\(\\d{4}\\)$')  \n",
    "movies['year'] = movies['title'].str.extract(r'\\((\\d{4})\\)$')        \n",
    "movies['title'] = movies['name']  \n",
    "\n",
    "encoder = OneHotEncoder()\n",
    "genres_encoded = encoder.fit_transform(movies[['genres']]).toarray()\n",
    "\n",
    "movies_features = genres_encoded\n",
    "\n",
    "def recommend_movies(movie_name, k=4):\n",
    "    movie_index = movies[movies['title'] == movie_name].index[0]\n",
    "    similarities = cosine_similarity([movies_features[movie_index]], movies_features)\n",
    "    similar_indices = similarities.argsort()[0][-k-1:-1][::-1]\n",
    "    recommendations = movies.iloc[similar_indices]['title'].tolist()\n",
    "    return recommendations\n",
    "\n",
    "st.title('Movie Recommendation System')\n",
    "\n",
    "movie_name = st.text_input('Enter a movie you like:')\n",
    "if st.button('Recommend'):\n",
    "    if movie_name in movies['title'].values:\n",
    "        recommendations = recommend_movies(movie_name)\n",
    "        st.write('Recommended Movies:')\n",
    "        for rec in recommendations:\n",
    "            st.write(f'- {rec}')\n",
    "    else:\n",
    "        st.write('Movie not found. Please try another title.')\n"
   ]
  },
  {
   "cell_type": "code",
   "execution_count": 2,
   "metadata": {},
   "outputs": [
    {
     "name": "stdout",
     "output_type": "stream",
     "text": [
      "Overwriting requirements.txt\n"
     ]
    }
   ],
   "source": [
    "%%writefile requirements.txt\n",
    "streamlit\n",
    "pandas\n",
    "sklearn"
   ]
  },
  {
   "cell_type": "code",
   "execution_count": 3,
   "metadata": {},
   "outputs": [
    {
     "name": "stdout",
     "output_type": "stream",
     "text": [
      "Overwriting Dockerfile\n"
     ]
    }
   ],
   "source": [
    "%%writefile Dockerfile\n",
    "\n",
    "FROM python:3.9\n",
    "WORKDIR /app\n",
    "COPY requirements.txt .\n",
    "RUN pip install -r requirements.txt\n",
    "COPY . .\n",
    "EXPOSE 8501\n",
    "\n",
    "CMD [\"streamlit\", \"run\", \"movie_rec.py\", \"--server.port=8501\",\"--server.address=0.0.0.0\"]"
   ]
  }
 ],
 "metadata": {
  "kernelspec": {
   "display_name": "Python 3",
   "language": "python",
   "name": "python3"
  },
  "language_info": {
   "codemirror_mode": {
    "name": "ipython",
    "version": 3
   },
   "file_extension": ".py",
   "mimetype": "text/x-python",
   "name": "python",
   "nbconvert_exporter": "python",
   "pygments_lexer": "ipython3",
   "version": "3.12.2"
  }
 },
 "nbformat": 4,
 "nbformat_minor": 2
}
